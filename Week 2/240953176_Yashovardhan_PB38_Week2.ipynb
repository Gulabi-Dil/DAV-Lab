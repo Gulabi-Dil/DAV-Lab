{
 "cells": [
  {
   "cell_type": "code",
   "execution_count": 1,
   "id": "fe8b4b16",
   "metadata": {},
   "outputs": [
    {
     "name": "stdout",
     "output_type": "stream",
     "text": [
      "Enter list size 5\n",
      "Enter elements in list:\n",
      "1\n",
      "2\n",
      "3\n",
      "3\n",
      "4\n",
      "Largest num: 4\n",
      "Smallest num: 1\n",
      "Sum of numbers 13\n",
      "Average of numbers: 2.6\n",
      "Enter number to search: 3\n",
      "Occurences of 3 in the list = 2\n"
     ]
    }
   ],
   "source": [
    "''' 1. Write a Python code block that inputs numbers into a list. \n",
    "Print the largest, smallest, the sum, and the average of the numbers. Count occurrences of a specific number in the list.'''\n",
    "a=[]\n",
    "n=int(input(\"Enter list size \"))\n",
    "print(\"Enter elements in list:\")\n",
    "for _ in range(n):\n",
    "    a.append(int(input()))\n",
    "print(f\"Largest num: {max(a)}\\nSmallest num: {min(a)}\")\n",
    "print(f\"Sum of numbers {sum(a)}\")\n",
    "print(f\"Average of numbers: {sum(a)/n}\")\n",
    "num=int(input(\"Enter number to search: \"))\n",
    "print(f\"Occurences of {num} in the list = {a.count(num)}\")"
   ]
  },
  {
   "cell_type": "code",
   "execution_count": 2,
   "id": "83da65ae",
   "metadata": {},
   "outputs": [
    {
     "name": "stdout",
     "output_type": "stream",
     "text": [
      "Enter 5 elements\n",
      "1\n",
      "2\n",
      "3\n",
      "4\n",
      "5\n",
      "Trying to replace 3 with Hello\n",
      "Error occured: Tuple is immutable hence cannot modify its elements\n"
     ]
    }
   ],
   "source": [
    "''' 2. Write a Python code block to create a tuple with five elements. \n",
    "Try to change one of the elements and handle the error that occurs. Print a message that explains why the error occurred.'''\n",
    "a=[]\n",
    "print(\"Enter 5 elements\")\n",
    "for _ in range(5):\n",
    "    a.append(input())\n",
    "t=tuple(a)\n",
    "print(f\"Trying to replace {t[2]} with Hello\")\n",
    "try: \n",
    "    t[1]=\"Hello\"\n",
    "except TypeError:\n",
    "    print(\"Error occured: Tuple is immutable hence cannot modify its elements\")"
   ]
  },
  {
   "cell_type": "code",
   "execution_count": 3,
   "id": "d997c47f",
   "metadata": {},
   "outputs": [
    {
     "name": "stdout",
     "output_type": "stream",
     "text": [
      "Best performing country is:\n",
      "Australia\n",
      "Displaying unique list of countries that have won the World Cup:\n",
      "West Indies\n",
      "India\n",
      "Australia\n",
      "Pakistan\n",
      "Sri Lanka\n",
      "England\n"
     ]
    }
   ],
   "source": [
    "''' 3. Write a Python code block to create a dictionary of cricket World Cup winners. Let the key be the year; \n",
    " the value is the country that won the World Cup that year. Print the name of the best performing country.\n",
    " Display the unique list of countries that have won the World Cup.'''\n",
    "winners={1975:\"West Indies\",\n",
    "         1979:\"West Indies\",\n",
    "         1983:\"India\",\n",
    "         1987:\"Australia\",\n",
    "         1992:\"Pakistan\",\n",
    "         1996:\"Sri Lanka\",\n",
    "         1999:\"Australia\",\n",
    "         2003:\"Australia\",\n",
    "         2007:\"Australia\",\n",
    "         2011:\"India\",\n",
    "         2015:\"Australia\",\n",
    "         2019:\"England\",\n",
    "         2023:\"Australia\"}\n",
    "record={}\n",
    "for x in winners.values():\n",
    "    if x in record: record[x]+=1\n",
    "    else: record[x]=1\n",
    "print(\"Best performing country is:\")\n",
    "for x in record:\n",
    "    if(max(record.values())==record[x]): print(x)\n",
    "print(\"Displaying unique list of countries that have won the World Cup:\")\n",
    "for x in record: print(x)"
   ]
  },
  {
   "cell_type": "code",
   "execution_count": 4,
   "id": "95747f72",
   "metadata": {},
   "outputs": [
    {
     "name": "stdout",
     "output_type": "stream",
     "text": [
      "Enter a sentence: I am yahoo hehe uwu uwu\n",
      "{'I': 1, 'am': 1, 'yahoo': 1, 'hehe': 1, 'uwu': 2}\n"
     ]
    }
   ],
   "source": [
    "''' 4. Write a Python code block that inputs a sentence from the user. \n",
    "Count the frequency of each word in the sentence and store the result in a dictionary. \n",
    "Prints the dictionary with words as keys and their frequencies as values.'''\n",
    "s=input(\"Enter a sentence: \").split()\n",
    "freq={}\n",
    "for x in s:\n",
    "    if x in freq: freq[x]+=1\n",
    "    else: freq[x]=1\n",
    "print(freq)"
   ]
  },
  {
   "cell_type": "code",
   "execution_count": 5,
   "id": "a9a2de66",
   "metadata": {},
   "outputs": [
    {
     "name": "stdout",
     "output_type": "stream",
     "text": [
      "Enter numbers in first set: 1 2 3 4 5\n",
      "Enter numbers in second set: 4 5 6 7\n",
      "Set A = {'3', '5', '4', '1', '2'}\n",
      "Set B = {'4', '6', '5', '7'}\n",
      "Union of the two sets =  {'3', '5', '7', '4', '6', '1', '2'}\n",
      "Intersection of the two sets =  {'4', '5'}\n",
      "Difference between the two sets(first set - second set) =  {'3', '1', '2'}\n"
     ]
    }
   ],
   "source": [
    "''' 5. Write a Python code block to input numbers into two sets.  \n",
    "Perform union, intersection, and difference operations on the sets and print the results.  '''\n",
    "a=set(input(\"Enter numbers in first set: \").split())\n",
    "b=set(input(\"Enter numbers in second set: \").split())\n",
    "print(f\"Set A = {a}\\nSet B = {b}\")\n",
    "print(\"Union of the two sets = \",a.union(b))\n",
    "print(\"Intersection of the two sets = \",a.intersection(b))\n",
    "print(\"Difference between the two sets(first set - second set) = \",a.difference(b))"
   ]
  }
 ],
 "metadata": {
  "kernelspec": {
   "display_name": "Python 3 (ipykernel)",
   "language": "python",
   "name": "python3"
  },
  "language_info": {
   "codemirror_mode": {
    "name": "ipython",
    "version": 3
   },
   "file_extension": ".py",
   "mimetype": "text/x-python",
   "name": "python",
   "nbconvert_exporter": "python",
   "pygments_lexer": "ipython3",
   "version": "3.9.13"
  }
 },
 "nbformat": 4,
 "nbformat_minor": 5
}
