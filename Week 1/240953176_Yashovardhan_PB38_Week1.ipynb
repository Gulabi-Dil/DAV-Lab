{
 "cells": [
  {
   "cell_type": "code",
   "execution_count": 1,
   "id": "4c775efc",
   "metadata": {},
   "outputs": [
    {
     "name": "stdout",
     "output_type": "stream",
     "text": [
      "Enter first number 5\n",
      "Enter second number 3\n",
      "Sum =  8 \n",
      "Difference =  2 \n",
      "Product =  15 \n",
      "Quotient =  1.6666666666666667\n"
     ]
    }
   ],
   "source": [
    "# 1. Write a Python function to input two numbers and perform the Calculator operations of (+, -, *, /)\n",
    "a=int(input(\"Enter first number \"))\n",
    "b=int(input(\"Enter second number \"))\n",
    "print(\"Sum = \", a+b,\"\\nDifference = \",abs(a-b),\"\\nProduct = \",a*b,\"\\nQuotient = \",a/b)"
   ]
  },
  {
   "cell_type": "code",
   "execution_count": 2,
   "id": "f5122d68",
   "metadata": {},
   "outputs": [
    {
     "name": "stdout",
     "output_type": "stream",
     "text": [
      "Enter a number to check if its prime or not 53\n",
      "Result: True\n"
     ]
    }
   ],
   "source": [
    "# 2. Write a Python function that takes an integer and returns True if it’s a prime number and False otherwise\n",
    "from sympy import *\n",
    "def CheckPrime(n):\n",
    "    if isprime(n):\n",
    "        return True\n",
    "    else:\n",
    "        return False\n",
    "a=int(input(\"Enter a number to check if its prime or not \"))\n",
    "print(f\"Result: {CheckPrime(a)}\")"
   ]
  },
  {
   "cell_type": "code",
   "execution_count": 1,
   "id": "783bcacf",
   "metadata": {},
   "outputs": [
    {
     "name": "stdout",
     "output_type": "stream",
     "text": [
      "1 3 5 7 9 11 13 15 17 19 21 23 25 27 29 31 33 35 37 39 41 43 45 47 49 51 53 55 57 59 61 63 65 67 69 71 73 75 77 79 81 83 85 87 89 91 93 95 97 99 \n",
      "Sum of even numbers =  2550\n"
     ]
    }
   ],
   "source": [
    "''' 3. Create a Python function that creates a sequence between 1 and 100 and prints all the odd numbers. \n",
    "Compute and display the sum of all the even numbers.'''\n",
    "def Seq():\n",
    "    s=0\n",
    "    for x in range(1,101):\n",
    "        if x%2==1:\n",
    "            print(x,end=\" \")\n",
    "        else:\n",
    "            s+=x\n",
    "    print(\"\\nSum of even numbers = \",s)\n",
    "Seq()"
   ]
  },
  {
   "cell_type": "code",
   "execution_count": 4,
   "id": "c1f06e17",
   "metadata": {},
   "outputs": [
    {
     "name": "stdout",
     "output_type": "stream",
     "text": [
      "Enter first element 5\n",
      "Enter second element 4.9\n",
      "9.9\n"
     ]
    }
   ],
   "source": [
    "''' 4. Write a Python function to add two elements and display the result. \n",
    " The elements can be of type integer, float or string.'''\n",
    "def Addition(x,y):\n",
    "    return x+y\n",
    "a=input(\"Enter first element \")\n",
    "b=input(\"Enter second element \")\n",
    "try:\n",
    "    x=float(a)\n",
    "    y=float(b)\n",
    "    sum=Addition(x,y)\n",
    "    if(str(sum).endswith(\".0\")): print(int(sum))\n",
    "    else: print(sum)\n",
    "except ValueError: print(Addition(a,b))"
   ]
  },
  {
   "cell_type": "code",
   "execution_count": 5,
   "id": "46945783",
   "metadata": {},
   "outputs": [
    {
     "name": "stdout",
     "output_type": "stream",
     "text": [
      "Enter a string Helloo\n",
      "Number of vowels: 3 Number of consonants: 3\n"
     ]
    }
   ],
   "source": [
    "''' 5. Write a Python function that takes a string input from the user and counts the number of vowels and consonants \n",
    "in the string.'''\n",
    "s=input(\"Enter a string \")\n",
    "c=v=0\n",
    "for x in s:\n",
    "    if x in 'aeiouAEIOU':\n",
    "        v+=1\n",
    "    else:\n",
    "        c+=1\n",
    "print(f\"Number of vowels: {v} Number of consonants: {c}\")"
   ]
  }
 ],
 "metadata": {
  "kernelspec": {
   "display_name": "Python 3 (ipykernel)",
   "language": "python",
   "name": "python3"
  },
  "language_info": {
   "codemirror_mode": {
    "name": "ipython",
    "version": 3
   },
   "file_extension": ".py",
   "mimetype": "text/x-python",
   "name": "python",
   "nbconvert_exporter": "python",
   "pygments_lexer": "ipython3",
   "version": "3.10.12"
  }
 },
 "nbformat": 4,
 "nbformat_minor": 5
}
